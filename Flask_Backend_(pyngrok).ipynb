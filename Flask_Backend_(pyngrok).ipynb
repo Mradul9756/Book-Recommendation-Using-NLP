{
  "cells": [
    {
      "cell_type": "markdown",
      "metadata": {
        "id": "WTuDjlsMgPpC"
      },
      "source": [
        "# Install Packages"
      ]
    },
    {
      "cell_type": "code",
      "execution_count": null,
      "metadata": {
        "id": "nT_Y9yKx68h9"
      },
      "outputs": [],
      "source": [
        "!pip3 install top2vec[sentence_encoders] flask pyngrok -q lib5c "
      ]
    },
    {
      "cell_type": "code",
      "execution_count": null,
      "metadata": {
        "colab": {
          "base_uri": "https://localhost:8080/"
        },
        "id": "JWNKyEUH6pZ-",
        "outputId": "26044f8e-7f8b-4fb3-d52c-e3370c17471d"
      },
      "outputs": [
        {
          "output_type": "stream",
          "name": "stdout",
          "text": [
            " * Serving Flask app \"__main__\" (lazy loading)\n",
            " * Environment: production\n",
            "\u001b[31m   WARNING: This is a development server. Do not use it in a production deployment.\u001b[0m\n",
            "\u001b[2m   Use a production WSGI server instead.\u001b[0m\n",
            " * Debug mode: off\n"
          ]
        },
        {
          "output_type": "stream",
          "name": "stderr",
          "text": [
            "INFO:werkzeug: * Running on http://127.0.0.1:5000/ (Press CTRL+C to quit)\n"
          ]
        }
      ],
      "source": [
        "from flask import Flask, render_template_string,render_template\n",
        "import pandas as pd\n",
        "from top2vec import Top2Vec\n",
        "from urllib.parse import urlparse,  parse_qs\n",
        "\n",
        "import threading\n",
        "import getpass\n",
        "import os\n",
        "from pyngrok import ngrok\n",
        "import sys\n",
        "\n",
        "\n",
        "def init_webhooks(base_url):\n",
        "    # Update inbound traffic via APIs to use the public-facing ngrok URL\n",
        "    pass\n",
        "\n",
        "def create_app():\n",
        "    app = Flask(__name__, template_folder='/content/drive/MyDrive/Colab Notebooks/templates/')\n",
        "\n",
        "    # Initialize our ngrok settings into Flask\n",
        "    app.config.from_mapping(\n",
        "        BASE_URL=\"http://localhost:54645\",\n",
        "        USE_NGROK=os.environ.get(\"USE_NGROK\", \"False\") == \"True\" and os.environ.get(\"WERKZEUG_RUN_MAIN\") != \"true\"\n",
        "    )\n",
        "\n",
        "    if app.config.get(\"ENV\") == \"development\" and app.config[\"USE_NGROK\"]:\n",
        "        # pyngrok will only be installed, and should only ever be initialized, in a dev environment\n",
        "        from pyngrok import ngrok\n",
        "\n",
        "        # Get the dev server port (defaults to 5000 for Flask, can be overridden with `--port`\n",
        "        # when starting the server\n",
        "        port = sys.argv[sys.argv.index(\"--port\") + 1] if \"--port\" in sys.argv else 5000\n",
        "\n",
        "        # Open a ngrok tunnel to the dev server\n",
        "        public_url = ngrok.connect(port).public_url\n",
        "        print(\" * ngrok tunnel \\\"{}\\\" -> \\\"http://127.0.0.1:{}\\\"\".format(public_url, port))\n",
        "\n",
        "        # Update any base URLs or webhooks to use the public ngrok URL\n",
        "        app.config[\"BASE_URL\"] = public_url\n",
        "        init_webhooks(public_url)\n",
        "\n",
        "    # ... Initialize Blueprints and the rest of our app\n",
        "\n",
        "    return app \n",
        "\n",
        "tunnels = ngrok.get_tunnels()\n",
        "\n",
        "for tunnel in tunnels:\n",
        "  ngrok.disconnect(tunnel.public_url)\n",
        "\n",
        "ngrok.set_auth_token(\"5gVpa4emhkybkkg4hZFzy_4457EWNhXHhuRNEq4rEgs\")\n",
        "\n",
        "\n",
        "app = create_app()\n",
        "\n",
        "\n",
        "model = Top2Vec.load('/content/drive/MyDrive/models/book_recomm_model')\n",
        " \n",
        "#route to homepage\n",
        "@app.route('/', methods=['GET'])\n",
        "def index():\n",
        "  return render_template('index.html')\n",
        "\n",
        "#route to results page\n",
        "@app.route('/results/<data>', methods=['GET'])\n",
        "def load_results(data):\n",
        "    d = {}\n",
        "    d = parse_qs(str(data))\n",
        "    #print(\"this is :\" + data)\n",
        "  \n",
        "\n",
        "    return \"this is :\" + data\n",
        "\n",
        "\n",
        "if __name__ == \"__main__\":\n",
        "    app.run()\n",
        "    \n",
        "\n",
        " "
      ]
    },
    {
      "cell_type": "code",
      "source": [
        "!lsof -P -i :12434"
      ],
      "metadata": {
        "id": "Cjn-_mtaeyUl"
      },
      "execution_count": null,
      "outputs": []
    }
  ],
  "metadata": {
    "colab": {
      "provenance": []
    },
    "kernelspec": {
      "display_name": "Python 3",
      "name": "python3"
    },
    "language_info": {
      "name": "python"
    }
  },
  "nbformat": 4,
  "nbformat_minor": 0
}