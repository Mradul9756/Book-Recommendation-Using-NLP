{
  "cells": [
    {
      "cell_type": "markdown",
      "metadata": {
        "id": "WTuDjlsMgPpC"
      },
      "source": [
        "# Install Packages"
      ]
    },
    {
      "cell_type": "code",
      "execution_count": null,
      "metadata": {
        "colab": {
          "base_uri": "https://localhost:8080/"
        },
        "id": "nT_Y9yKx68h9",
        "outputId": "8d7e17aa-e820-45c6-fabb-767e6ec79869"
      },
      "outputs": [
        {
          "output_type": "stream",
          "name": "stdout",
          "text": [
            "\u001b[?25l\r\u001b[K     |████                            | 10 kB 22.6 MB/s eta 0:00:01\r\u001b[K     |████████                        | 20 kB 8.1 MB/s eta 0:00:01\r\u001b[K     |███████████▉                    | 30 kB 11.2 MB/s eta 0:00:01\r\u001b[K     |███████████████▉                | 40 kB 7.1 MB/s eta 0:00:01\r\u001b[K     |███████████████████▊            | 51 kB 6.8 MB/s eta 0:00:01\r\u001b[K     |███████████████████████▊        | 61 kB 8.0 MB/s eta 0:00:01\r\u001b[K     |███████████████████████████▋    | 71 kB 8.5 MB/s eta 0:00:01\r\u001b[K     |███████████████████████████████▋| 81 kB 9.4 MB/s eta 0:00:01\r\u001b[K     |████████████████████████████████| 83 kB 1.1 MB/s \n",
            "\u001b[?25h"
          ]
        }
      ],
      "source": [
        "!pip3 install top2vec[sentence_encoders] flask_ngrok pyngrok -q lib5c flask==0.12.2"
      ]
    },
    {
      "cell_type": "code",
      "source": [
        "!ngrok start --none --log stdout"
      ],
      "metadata": {
        "id": "BKXXs24ZGb02"
      },
      "execution_count": null,
      "outputs": []
    },
    {
      "cell_type": "markdown",
      "metadata": {
        "id": "u6bXi9wTgE2r"
      },
      "source": [
        "# Store your personal ngrok auth token on colab"
      ]
    },
    {
      "cell_type": "code",
      "execution_count": null,
      "metadata": {
        "colab": {
          "base_uri": "https://localhost:8080/"
        },
        "id": "m7-Ehng-NBpw",
        "outputId": "f7288ddf-0a89-4653-8401-676c2565ca60"
      },
      "outputs": [
        {
          "output_type": "stream",
          "name": "stdout",
          "text": [
            "Authtoken saved to configuration file: /root/.ngrok2/ngrok.yml\n"
          ]
        }
      ],
      "source": [
        "!ngrok authtoken 5gVpa4emhkybkkg4hZFzy_4457EWNhXHhuRNEq4rEgs"
      ]
    },
    {
      "cell_type": "markdown",
      "metadata": {
        "id": "VI14cv8DgdmL"
      },
      "source": [
        "# Flask App"
      ]
    },
    {
      "cell_type": "markdown",
      "metadata": {
        "id": "qn7Meqp_Ngpj"
      },
      "source": [
        "# Imports"
      ]
    },
    {
      "cell_type": "code",
      "execution_count": null,
      "metadata": {
        "id": "SqmUoTyjXsoN"
      },
      "outputs": [],
      "source": [
        "from flask import Flask, render_template_string,render_template\n",
        "from flask_ngrok import run_with_ngrok\n",
        "import pandas as pd\n",
        "from top2vec import Top2Vec\n",
        "from urllib.parse import urlparse,  parse_qs\n"
      ]
    },
    {
      "cell_type": "markdown",
      "metadata": {
        "id": "_0HZ3CQvNmwD"
      },
      "source": [
        "# Ingest dataset"
      ]
    },
    {
      "cell_type": "code",
      "execution_count": null,
      "metadata": {
        "id": "RxfsIssTwc1O"
      },
      "outputs": [],
      "source": [
        "with pd.read_csv('/content/drive/MyDrive/models/amazon_reviews_books.csv', \n",
        "            chunksize=10000, \n",
        "            nrows = 100000,\n",
        "            sep=',' , \n",
        "            #usecols=['product_title','product_parent','review_headline','review_body','review_date','star_rating'],\n",
        "            usecols=['product_title','review_body','star_rating'],\n",
        "            ) as reader:\n",
        "\n",
        "  df_small = pd.DataFrame()\n",
        "  for chunk in reader:\n",
        "    df_small = pd.concat([df_small, chunk])\n"
      ]
    },
    {
      "cell_type": "code",
      "source": [
        "df_small.head()"
      ],
      "metadata": {
        "colab": {
          "base_uri": "https://localhost:8080/",
          "height": 206
        },
        "id": "BhhBwQEEQJXM",
        "outputId": "7a2aac4d-2cb2-4a52-a5ed-eaab15726c2f"
      },
      "execution_count": null,
      "outputs": [
        {
          "output_type": "execute_result",
          "data": {
            "text/plain": [
              "                                       product_title  \\\n",
              "0         Sisterhood of the Traveling Pants (Book 1)   \n",
              "1      The Bad Girl's Guide to Getting What You Want   \n",
              "2             Eisenhorn (A Warhammer 40,000 Omnibus)   \n",
              "3                    Colby Conspiracy (Colby Agency)   \n",
              "4  The Psychology of Proof: Deductive Reasoning i...   \n",
              "\n",
              "                                         review_body  star_rating  \n",
              "0  this boook was a great one that you could lear...            4  \n",
              "1  If you are looking for something to stimulate ...            3  \n",
              "2  never read it-a young relative idicated he lik...            4  \n",
              "3  Though she is honored to be Chicago Woman of t...            5  \n",
              "4  Review based on a cursory examination by Unive...            4  "
            ],
            "text/html": [
              "\n",
              "  <div id=\"df-af38e86d-eab1-4638-a3b0-72a3e01a5ceb\">\n",
              "    <div class=\"colab-df-container\">\n",
              "      <div>\n",
              "<style scoped>\n",
              "    .dataframe tbody tr th:only-of-type {\n",
              "        vertical-align: middle;\n",
              "    }\n",
              "\n",
              "    .dataframe tbody tr th {\n",
              "        vertical-align: top;\n",
              "    }\n",
              "\n",
              "    .dataframe thead th {\n",
              "        text-align: right;\n",
              "    }\n",
              "</style>\n",
              "<table border=\"1\" class=\"dataframe\">\n",
              "  <thead>\n",
              "    <tr style=\"text-align: right;\">\n",
              "      <th></th>\n",
              "      <th>product_title</th>\n",
              "      <th>review_body</th>\n",
              "      <th>star_rating</th>\n",
              "    </tr>\n",
              "  </thead>\n",
              "  <tbody>\n",
              "    <tr>\n",
              "      <th>0</th>\n",
              "      <td>Sisterhood of the Traveling Pants (Book 1)</td>\n",
              "      <td>this boook was a great one that you could lear...</td>\n",
              "      <td>4</td>\n",
              "    </tr>\n",
              "    <tr>\n",
              "      <th>1</th>\n",
              "      <td>The Bad Girl's Guide to Getting What You Want</td>\n",
              "      <td>If you are looking for something to stimulate ...</td>\n",
              "      <td>3</td>\n",
              "    </tr>\n",
              "    <tr>\n",
              "      <th>2</th>\n",
              "      <td>Eisenhorn (A Warhammer 40,000 Omnibus)</td>\n",
              "      <td>never read it-a young relative idicated he lik...</td>\n",
              "      <td>4</td>\n",
              "    </tr>\n",
              "    <tr>\n",
              "      <th>3</th>\n",
              "      <td>Colby Conspiracy (Colby Agency)</td>\n",
              "      <td>Though she is honored to be Chicago Woman of t...</td>\n",
              "      <td>5</td>\n",
              "    </tr>\n",
              "    <tr>\n",
              "      <th>4</th>\n",
              "      <td>The Psychology of Proof: Deductive Reasoning i...</td>\n",
              "      <td>Review based on a cursory examination by Unive...</td>\n",
              "      <td>4</td>\n",
              "    </tr>\n",
              "  </tbody>\n",
              "</table>\n",
              "</div>\n",
              "      <button class=\"colab-df-convert\" onclick=\"convertToInteractive('df-af38e86d-eab1-4638-a3b0-72a3e01a5ceb')\"\n",
              "              title=\"Convert this dataframe to an interactive table.\"\n",
              "              style=\"display:none;\">\n",
              "        \n",
              "  <svg xmlns=\"http://www.w3.org/2000/svg\" height=\"24px\"viewBox=\"0 0 24 24\"\n",
              "       width=\"24px\">\n",
              "    <path d=\"M0 0h24v24H0V0z\" fill=\"none\"/>\n",
              "    <path d=\"M18.56 5.44l.94 2.06.94-2.06 2.06-.94-2.06-.94-.94-2.06-.94 2.06-2.06.94zm-11 1L8.5 8.5l.94-2.06 2.06-.94-2.06-.94L8.5 2.5l-.94 2.06-2.06.94zm10 10l.94 2.06.94-2.06 2.06-.94-2.06-.94-.94-2.06-.94 2.06-2.06.94z\"/><path d=\"M17.41 7.96l-1.37-1.37c-.4-.4-.92-.59-1.43-.59-.52 0-1.04.2-1.43.59L10.3 9.45l-7.72 7.72c-.78.78-.78 2.05 0 2.83L4 21.41c.39.39.9.59 1.41.59.51 0 1.02-.2 1.41-.59l7.78-7.78 2.81-2.81c.8-.78.8-2.07 0-2.86zM5.41 20L4 18.59l7.72-7.72 1.47 1.35L5.41 20z\"/>\n",
              "  </svg>\n",
              "      </button>\n",
              "      \n",
              "  <style>\n",
              "    .colab-df-container {\n",
              "      display:flex;\n",
              "      flex-wrap:wrap;\n",
              "      gap: 12px;\n",
              "    }\n",
              "\n",
              "    .colab-df-convert {\n",
              "      background-color: #E8F0FE;\n",
              "      border: none;\n",
              "      border-radius: 50%;\n",
              "      cursor: pointer;\n",
              "      display: none;\n",
              "      fill: #1967D2;\n",
              "      height: 32px;\n",
              "      padding: 0 0 0 0;\n",
              "      width: 32px;\n",
              "    }\n",
              "\n",
              "    .colab-df-convert:hover {\n",
              "      background-color: #E2EBFA;\n",
              "      box-shadow: 0px 1px 2px rgba(60, 64, 67, 0.3), 0px 1px 3px 1px rgba(60, 64, 67, 0.15);\n",
              "      fill: #174EA6;\n",
              "    }\n",
              "\n",
              "    [theme=dark] .colab-df-convert {\n",
              "      background-color: #3B4455;\n",
              "      fill: #D2E3FC;\n",
              "    }\n",
              "\n",
              "    [theme=dark] .colab-df-convert:hover {\n",
              "      background-color: #434B5C;\n",
              "      box-shadow: 0px 1px 3px 1px rgba(0, 0, 0, 0.15);\n",
              "      filter: drop-shadow(0px 1px 2px rgba(0, 0, 0, 0.3));\n",
              "      fill: #FFFFFF;\n",
              "    }\n",
              "  </style>\n",
              "\n",
              "      <script>\n",
              "        const buttonEl =\n",
              "          document.querySelector('#df-af38e86d-eab1-4638-a3b0-72a3e01a5ceb button.colab-df-convert');\n",
              "        buttonEl.style.display =\n",
              "          google.colab.kernel.accessAllowed ? 'block' : 'none';\n",
              "\n",
              "        async function convertToInteractive(key) {\n",
              "          const element = document.querySelector('#df-af38e86d-eab1-4638-a3b0-72a3e01a5ceb');\n",
              "          const dataTable =\n",
              "            await google.colab.kernel.invokeFunction('convertToInteractive',\n",
              "                                                     [key], {});\n",
              "          if (!dataTable) return;\n",
              "\n",
              "          const docLinkHtml = 'Like what you see? Visit the ' +\n",
              "            '<a target=\"_blank\" href=https://colab.research.google.com/notebooks/data_table.ipynb>data table notebook</a>'\n",
              "            + ' to learn more about interactive tables.';\n",
              "          element.innerHTML = '';\n",
              "          dataTable['output_type'] = 'display_data';\n",
              "          await google.colab.output.renderOutput(dataTable, element);\n",
              "          const docLink = document.createElement('div');\n",
              "          docLink.innerHTML = docLinkHtml;\n",
              "          element.appendChild(docLink);\n",
              "        }\n",
              "      </script>\n",
              "    </div>\n",
              "  </div>\n",
              "  "
            ]
          },
          "metadata": {},
          "execution_count": 16
        }
      ]
    },
    {
      "cell_type": "markdown",
      "metadata": {
        "id": "tbhoLUlnNs6b"
      },
      "source": [
        "# Initialize app and model"
      ]
    },
    {
      "cell_type": "code",
      "execution_count": null,
      "metadata": {
        "colab": {
          "base_uri": "https://localhost:8080/"
        },
        "id": "JWNKyEUH6pZ-",
        "outputId": "cb469d30-b9ad-409a-b650-856feda1b999"
      },
      "outputs": [
        {
          "output_type": "stream",
          "name": "stdout",
          "text": [
            " * Serving Flask app \"__main__\" (lazy loading)\n",
            " * Environment: production\n",
            "\u001b[31m   WARNING: This is a development server. Do not use it in a production deployment.\u001b[0m\n",
            "\u001b[2m   Use a production WSGI server instead.\u001b[0m\n",
            " * Debug mode: off\n"
          ]
        },
        {
          "output_type": "stream",
          "name": "stderr",
          "text": [
            "INFO:werkzeug: * Running on http://127.0.0.1:5000/ (Press CTRL+C to quit)\n"
          ]
        },
        {
          "output_type": "stream",
          "name": "stdout",
          "text": [
            " * Running on http://c93a-34-83-110-212.ngrok.io\n",
            " * Traffic stats available on http://127.0.0.1:4040\n"
          ]
        },
        {
          "output_type": "stream",
          "name": "stderr",
          "text": [
            "INFO:werkzeug:127.0.0.1 - - [16/Nov/2022 13:22:26] \"\u001b[37mGET / HTTP/1.1\u001b[0m\" 200 -\n",
            "INFO:werkzeug:127.0.0.1 - - [16/Nov/2022 13:22:30] \"\u001b[33mGET /favicon.ico HTTP/1.1\u001b[0m\" 404 -\n"
          ]
        }
      ],
      "source": [
        "\n",
        "\n",
        "\n",
        "app = Flask(__name__, template_folder='/content/drive/MyDrive/Colab Notebooks/templates/')\n",
        "run_with_ngrok(app)\n",
        "\n",
        "model = Top2Vec.load('/content/drive/MyDrive/models/book_recomm_model')\n",
        " \n",
        "#route to homepage\n",
        "@app.route('/', methods=['GET'])\n",
        "def index():\n",
        "  return render_template('index.html')\n",
        "\n",
        "#route to results page\n",
        "@app.route('/results/<data>', methods=['GET'])\n",
        "def load_results(data):\n",
        "    d = {}\n",
        "    d = parse_qs(str(data))\n",
        "    #print(\"this is :\" + data)\n",
        "  \n",
        "\n",
        "    return \"this is :\" + data\n",
        "\n",
        "\n",
        "if __name__ == \"__main__\":\n",
        "    app.run()\n",
        "    \n",
        "\n",
        " "
      ]
    },
    {
      "cell_type": "code",
      "source": [
        "documents, document_scores, document_ids = model.query_documents('romance', num_docs=5)\n",
        "df = df_small.loc[document_ids,['product_title','star_rating','review_body']]\n",
        "df.sort_values(by=['star_rating'], ascending=False)\n",
        "results = df.to_html()\n",
        "results"
      ],
      "metadata": {
        "colab": {
          "base_uri": "https://localhost:8080/",
          "height": 174
        },
        "id": "Cjn-_mtaeyUl",
        "outputId": "a7247e43-4fd8-4cd0-d277-939f5e254337"
      },
      "execution_count": null,
      "outputs": [
        {
          "output_type": "execute_result",
          "data": {
            "text/plain": [
              "'<table border=\"1\" class=\"dataframe\">\\n  <thead>\\n    <tr style=\"text-align: right;\">\\n      <th></th>\\n      <th>product_title</th>\\n      <th>star_rating</th>\\n      <th>review_body</th>\\n    </tr>\\n  </thead>\\n  <tbody>\\n    <tr>\\n      <th>81382</th>\\n      <td>Chill Factor: A Novel</td>\\n      <td>4</td>\\n      <td>I love SB as an author.  I do prefer her romance novels, but this book did not disappoint.  It was thrilling with a bit of romance thrown in for good measure.</td>\\n    </tr>\\n    <tr>\\n      <th>2479</th>\\n      <td>Veiled Promises (Zebra Debut)</td>\\n      <td>5</td>\\n      <td>Tracy MacNish is a name to remember for future historical romance reads. This novel has everything a good old fashion historical romance needs. The heroine &amp; hero are strong characters with complex circumstances and mean villians that weave into their relationship. You can\\'t put the book down. You will have a sleepless night, so make sure you have time for this one. It is worth making the time for. So bring out the tea, put the kids to bed, and curl up with this enjoyable historical romance. What a thrill to have a new writer give us what romance fans need. A great story to not only take us back in time, but away from the realities of the modern stressful life. It a simple formula, but has worked for generations - boy meets girl, boy loses girl, boy gets girl. If you don\\'t like this one, then you just don\\'t like the real romance genre. I am reminded of Bertrice Small, Kathleen E. Woodiwiss, and even Danelle Harmon comes to mind. Tracy gives it to us all. Can\\'t wait for her next book.</td>\\n    </tr>\\n    <tr>\\n      <th>59852</th>\\n      <td>Unconquered</td>\\n      <td>4</td>\\n      <td>For those of you considering reading Bertrice Small for the first time- be forewarned her books are definately not the typical romance novels.  Her novels are definately hotter and unlike many historical romance writers- there is usually more than one partner in the woman\\'s life which I think is more representative of real life than man meets woman and thats it forever and ever.  &lt;br /&gt; &lt;br /&gt;Her stories are quick paced and adventorous and the love scenes are good, and not as corny as some tend to be.  &lt;br /&gt; &lt;br /&gt;I love a lot of the classic romance writers, but I am completely hooked on Bertrice- and it all started with buying Rosamund on a whim!  Since then Ive read the entire Skye Omalley series and I am picking my way through each of the others.   &lt;br /&gt; &lt;br /&gt;   &lt;br /&gt; &lt;br /&gt;</td>\\n    </tr>\\n    <tr>\\n      <th>99653</th>\\n      <td>Fool\\'s Puzzle (Benni Harper Mystery)</td>\\n      <td>5</td>\\n      <td>Very good, holds your interest, just enough romance to make you guess about the story line.</td>\\n    </tr>\\n    <tr>\\n      <th>29799</th>\\n      <td>Desert Storm</td>\\n      <td>4</td>\\n      <td>This was the first romance novel I ever read at age 16.  I was babysitting and I found the mother\\'s stash of romance novels and this was the first one I picked up.  I\\'m the kind of romance reader that LOVES angst, forbidden lovers, circumstances keeping them apart... so on and so forth.   &lt;br /&gt; &lt;br /&gt;Since this book I\\'ve gone on to read thousands of romances novels, I thought the love scenes were written very well.   &lt;br /&gt; &lt;br /&gt;Also the part where Pecos\\'s horse dies... oh my god.  I just cried my little heart out.  I felt like Angie.  &lt;br /&gt; &lt;br /&gt;Just a great novel and probably the reason I became such a romance fan. &lt;br /&gt;</td>\\n    </tr>\\n  </tbody>\\n</table>'"
            ],
            "application/vnd.google.colaboratory.intrinsic+json": {
              "type": "string"
            }
          },
          "metadata": {},
          "execution_count": 13
        }
      ]
    },
    {
      "cell_type": "markdown",
      "metadata": {
        "id": "VlYBYM1DV-Pi"
      },
      "source": [
        "# Run app"
      ]
    }
  ],
  "metadata": {
    "colab": {
      "provenance": []
    },
    "kernelspec": {
      "display_name": "Python 3",
      "name": "python3"
    },
    "language_info": {
      "name": "python"
    }
  },
  "nbformat": 4,
  "nbformat_minor": 0
}